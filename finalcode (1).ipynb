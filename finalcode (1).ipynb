{
 "cells": [
  {
   "cell_type": "code",
   "execution_count": 1,
   "id": "4b425464",
   "metadata": {},
   "outputs": [],
   "source": [
    "import pytesseract\n",
    "pytesseract.pytesseract.tesseract_cmd = r\"C:\\Program Files\\Tesseract-OCR\\tesseract.exe\"\n",
    "import requests\n",
    "from PIL import Image\n",
    "from io import BytesIO\n",
    "import pandas as pd\n",
    "from tqdm import tqdm\n",
    "from concurrent.futures import ThreadPoolExecutor"
   ]
  },
  {
   "cell_type": "code",
   "execution_count": 2,
   "id": "ef27e945",
   "metadata": {},
   "outputs": [
    {
     "name": "stdout",
     "output_type": "stream",
     "text": [
      "Train Dataset:\n",
      "                                          image_link  group_id  entity_name  \\\n",
      "0  https://m.media-amazon.com/images/I/61I9XdN6OF...    748919  item_weight   \n",
      "1  https://m.media-amazon.com/images/I/71gSRbyXmo...    916768  item_volume   \n",
      "2  https://m.media-amazon.com/images/I/61BZ4zrjZX...    459516  item_weight   \n",
      "3  https://m.media-amazon.com/images/I/612mrlqiI4...    459516  item_weight   \n",
      "4  https://m.media-amazon.com/images/I/617Tl40LOX...    731432  item_weight   \n",
      "\n",
      "     entity_value  \n",
      "0      500.0 gram  \n",
      "1         1.0 cup  \n",
      "2      0.709 gram  \n",
      "3      0.709 gram  \n",
      "4  1400 milligram  \n",
      "\n",
      "Test Dataset:\n",
      "   index                                         image_link  group_id  \\\n",
      "0      0  https://m.media-amazon.com/images/I/110EibNycl...    156839   \n",
      "1      1  https://m.media-amazon.com/images/I/11TU2clswz...    792578   \n",
      "2      2  https://m.media-amazon.com/images/I/11TU2clswz...    792578   \n",
      "3      3  https://m.media-amazon.com/images/I/11TU2clswz...    792578   \n",
      "4      4  https://m.media-amazon.com/images/I/11gHj8dhhr...    792578   \n",
      "\n",
      "  entity_name  \n",
      "0      height  \n",
      "1       width  \n",
      "2      height  \n",
      "3       depth  \n",
      "4       depth  \n",
      "\n",
      "Sample Test Dataset:\n",
      "   index                                         image_link  group_id  \\\n",
      "0      0  https://m.media-amazon.com/images/I/41-NCxNuBx...    658003   \n",
      "1      1  https://m.media-amazon.com/images/I/41-NCxNuBx...    658003   \n",
      "2      2  https://m.media-amazon.com/images/I/417NJrPEk+...    939426   \n",
      "3      3  https://m.media-amazon.com/images/I/417SThj+Sr...    276700   \n",
      "4      4  https://m.media-amazon.com/images/I/417SThj+Sr...    276700   \n",
      "\n",
      "                     entity_name  \n",
      "0                          width  \n",
      "1                          depth  \n",
      "2  maximum_weight_recommendation  \n",
      "3                        voltage  \n",
      "4                        wattage  \n"
     ]
    }
   ],
   "source": [
    "# Define the dataset folder path\n",
    "DATASET_FOLDER = './dataset/'\n",
    "\n",
    "# Load the datasets\n",
    "train_df = pd.read_csv(f'{DATASET_FOLDER}/train.csv')\n",
    "test_df = pd.read_csv(f'{DATASET_FOLDER}/test.csv')\n",
    "sample_test_df = pd.read_csv(f'{DATASET_FOLDER}/sample_test.csv')\n",
    "\n",
    "# Display the first few rows of each dataset\n",
    "print(\"Train Dataset:\")\n",
    "print(train_df.head())\n",
    "print(\"\\nTest Dataset:\")\n",
    "print(test_df.head())\n",
    "print(\"\\nSample Test Dataset:\")\n",
    "print(sample_test_df.head())"
   ]
  },
  {
   "cell_type": "markdown",
   "id": "449b15ab",
   "metadata": {},
   "source": [
    "## Function to extract text from images"
   ]
  },
  {
   "cell_type": "code",
   "execution_count": 3,
   "id": "4d32ba63",
   "metadata": {},
   "outputs": [],
   "source": [
    "def extract_text_from_image(image_url):\n",
    "    try:\n",
    "        # Fetch the image from the URL\n",
    "        response = requests.get(image_url, timeout=10)\n",
    "        response.raise_for_status()  # Raise an error if the request failed\n",
    "        \n",
    "        # Open the image using PIL\n",
    "        im = Image.open(BytesIO(response.content))\n",
    "        \n",
    "        # Convert the image to grayscale (optional, helps OCR in some cases)\n",
    "        im = im.convert('L')\n",
    "        \n",
    "        # Extract text from the image using pytesseract\n",
    "        text = pytesseract.image_to_string(im, config='--psm 6')  # Adjust config to improve text extraction\n",
    "#         if text.strip() == \"\":\n",
    "#             print(f\"No text extracted from {image_url}\")\n",
    "        return text\n",
    "    except requests.exceptions.RequestException as req_err:\n",
    "        print(f\"Failed to fetch image from URL {image_url}: {req_err}\")\n",
    "        return \"\"  # Return empty string on request error\n",
    "    except Exception as e:\n",
    "        print(f\"Error processing image {image_url}: {e}\")\n",
    "        return \"\"  # Return empty string on other errors"
   ]
  },
  {
   "cell_type": "code",
   "execution_count": 4,
   "id": "65fe1d01",
   "metadata": {},
   "outputs": [],
   "source": [
    "# Function to process dataset in parallel\n",
    "def extract_text_from_dataset_parallel(df, image_column, num_threads=8):\n",
    "    # Create a new column 'extracted_text' to store the extracted text\n",
    "    df['extracted_text'] = None\n",
    "    \n",
    "    # Function to process a row and extract the text\n",
    "    def process_row(row):\n",
    "        return extract_text_from_image(getattr(row, image_column))  # Access attribute by name\n",
    "    \n",
    "    # Using ThreadPoolExecutor for parallel execution\n",
    "    with ThreadPoolExecutor(max_workers=num_threads) as executor:\n",
    "        # Apply the processing function to each row in parallel\n",
    "        extracted_texts = list(tqdm(executor.map(process_row, df.itertuples(), chunksize=100), total=len(df)))\n",
    "\n",
    "    # Update the DataFrame with the extracted text\n",
    "    df['extracted_text'] = extracted_texts\n",
    "    return df"
   ]
  },
  {
   "cell_type": "code",
   "execution_count": 5,
   "id": "843f1338",
   "metadata": {},
   "outputs": [],
   "source": [
    "# Apply tqdm for progress tracking\n",
    "tqdm.pandas()"
   ]
  },
  {
   "cell_type": "code",
   "execution_count": null,
   "id": "b25c6148",
   "metadata": {},
   "outputs": [],
   "source": [
    "test_df = extract_text_from_dataset_parallel(test_df, 'image_link', num_threads=8)\n"
   ]
  },
  {
   "cell_type": "code",
   "execution_count": null,
   "id": "bb70449f",
   "metadata": {},
   "outputs": [],
   "source": [
    "# Save the updated DataFrames to new CSV files\n",
    "test_df.to_csv('test_with_extracted_text.csv', index=False)\n"
   ]
  },
  {
   "cell_type": "markdown",
   "id": "69763a1b",
   "metadata": {},
   "source": [
    "# Extract numeric values and units "
   ]
  },
  {
   "cell_type": "code",
   "execution_count": 5,
   "id": "8661d46c",
   "metadata": {},
   "outputs": [
    {
     "name": "stderr",
     "output_type": "stream",
     "text": [
      "C:\\Users\\DELL\\AppData\\Local\\Temp\\ipykernel_19744\\3390673709.py:1: DtypeWarning: Columns (4) have mixed types. Specify dtype option on import or set low_memory=False.\n",
      "  test_with_extracted_text_df = pd.read_csv('test_with_extracted_text.csv')\n"
     ]
    }
   ],
   "source": [
    "test_with_extracted_text_df = pd.read_csv('test_with_extracted_text.csv')"
   ]
  },
  {
   "cell_type": "code",
   "execution_count": 6,
   "id": "072668e8",
   "metadata": {},
   "outputs": [
    {
     "data": {
      "text/html": [
       "<div>\n",
       "<style scoped>\n",
       "    .dataframe tbody tr th:only-of-type {\n",
       "        vertical-align: middle;\n",
       "    }\n",
       "\n",
       "    .dataframe tbody tr th {\n",
       "        vertical-align: top;\n",
       "    }\n",
       "\n",
       "    .dataframe thead th {\n",
       "        text-align: right;\n",
       "    }\n",
       "</style>\n",
       "<table border=\"1\" class=\"dataframe\">\n",
       "  <thead>\n",
       "    <tr style=\"text-align: right;\">\n",
       "      <th></th>\n",
       "      <th>index</th>\n",
       "      <th>image_link</th>\n",
       "      <th>group_id</th>\n",
       "      <th>entity_name</th>\n",
       "      <th>extracted_text</th>\n",
       "    </tr>\n",
       "  </thead>\n",
       "  <tbody>\n",
       "    <tr>\n",
       "      <th>0</th>\n",
       "      <td>0</td>\n",
       "      <td>https://m.media-amazon.com/images/I/110EibNycl...</td>\n",
       "      <td>156839</td>\n",
       "      <td>height</td>\n",
       "      <td>oo _ | 2\\n</td>\n",
       "    </tr>\n",
       "    <tr>\n",
       "      <th>1</th>\n",
       "      <td>1</td>\n",
       "      <td>https://m.media-amazon.com/images/I/11TU2clswz...</td>\n",
       "      <td>792578</td>\n",
       "      <td>width</td>\n",
       "      <td>Size Width Length\\nOne Size 42cm/16.54\" 200cm/...</td>\n",
       "    </tr>\n",
       "    <tr>\n",
       "      <th>2</th>\n",
       "      <td>2</td>\n",
       "      <td>https://m.media-amazon.com/images/I/11TU2clswz...</td>\n",
       "      <td>792578</td>\n",
       "      <td>height</td>\n",
       "      <td>Size Width Length\\nOne Size 42cm/16.54\" 200cm/...</td>\n",
       "    </tr>\n",
       "    <tr>\n",
       "      <th>3</th>\n",
       "      <td>3</td>\n",
       "      <td>https://m.media-amazon.com/images/I/11TU2clswz...</td>\n",
       "      <td>792578</td>\n",
       "      <td>depth</td>\n",
       "      <td>Size Width Length\\nOne Size 42cm/16.54\" 200cm/...</td>\n",
       "    </tr>\n",
       "    <tr>\n",
       "      <th>4</th>\n",
       "      <td>4</td>\n",
       "      <td>https://m.media-amazon.com/images/I/11gHj8dhhr...</td>\n",
       "      <td>792578</td>\n",
       "      <td>depth</td>\n",
       "      <td>Size Width Length\\nOne Size 10.50em/4.13\" 90cm...</td>\n",
       "    </tr>\n",
       "    <tr>\n",
       "      <th>...</th>\n",
       "      <td>...</td>\n",
       "      <td>...</td>\n",
       "      <td>...</td>\n",
       "      <td>...</td>\n",
       "      <td>...</td>\n",
       "    </tr>\n",
       "    <tr>\n",
       "      <th>131182</th>\n",
       "      <td>131283</td>\n",
       "      <td>https://m.media-amazon.com/images/I/A1rVsIzEtk...</td>\n",
       "      <td>721522</td>\n",
       "      <td>maximum_weight_recommendation</td>\n",
       "      <td>NaN</td>\n",
       "    </tr>\n",
       "    <tr>\n",
       "      <th>131183</th>\n",
       "      <td>131284</td>\n",
       "      <td>https://m.media-amazon.com/images/I/A1rdvZ5zDd...</td>\n",
       "      <td>603688</td>\n",
       "      <td>item_weight</td>\n",
       "      <td>NaN</td>\n",
       "    </tr>\n",
       "    <tr>\n",
       "      <th>131184</th>\n",
       "      <td>131285</td>\n",
       "      <td>https://m.media-amazon.com/images/I/A1rdvZ5zDd...</td>\n",
       "      <td>603688</td>\n",
       "      <td>maximum_weight_recommendation</td>\n",
       "      <td>NaN</td>\n",
       "    </tr>\n",
       "    <tr>\n",
       "      <th>131185</th>\n",
       "      <td>131286</td>\n",
       "      <td>https://m.media-amazon.com/images/I/A1tnTUPyr7...</td>\n",
       "      <td>853009</td>\n",
       "      <td>item_weight</td>\n",
       "      <td>NaN</td>\n",
       "    </tr>\n",
       "    <tr>\n",
       "      <th>131186</th>\n",
       "      <td>131287</td>\n",
       "      <td>https://m.media-amazon.com/images/I/A1tnTUPyr7...</td>\n",
       "      <td>853009</td>\n",
       "      <td>maximum_weight_recommendation</td>\n",
       "      <td>NaN</td>\n",
       "    </tr>\n",
       "  </tbody>\n",
       "</table>\n",
       "<p>131187 rows × 5 columns</p>\n",
       "</div>"
      ],
      "text/plain": [
       "         index                                         image_link  group_id  \\\n",
       "0            0  https://m.media-amazon.com/images/I/110EibNycl...    156839   \n",
       "1            1  https://m.media-amazon.com/images/I/11TU2clswz...    792578   \n",
       "2            2  https://m.media-amazon.com/images/I/11TU2clswz...    792578   \n",
       "3            3  https://m.media-amazon.com/images/I/11TU2clswz...    792578   \n",
       "4            4  https://m.media-amazon.com/images/I/11gHj8dhhr...    792578   \n",
       "...        ...                                                ...       ...   \n",
       "131182  131283  https://m.media-amazon.com/images/I/A1rVsIzEtk...    721522   \n",
       "131183  131284  https://m.media-amazon.com/images/I/A1rdvZ5zDd...    603688   \n",
       "131184  131285  https://m.media-amazon.com/images/I/A1rdvZ5zDd...    603688   \n",
       "131185  131286  https://m.media-amazon.com/images/I/A1tnTUPyr7...    853009   \n",
       "131186  131287  https://m.media-amazon.com/images/I/A1tnTUPyr7...    853009   \n",
       "\n",
       "                          entity_name  \\\n",
       "0                              height   \n",
       "1                               width   \n",
       "2                              height   \n",
       "3                               depth   \n",
       "4                               depth   \n",
       "...                               ...   \n",
       "131182  maximum_weight_recommendation   \n",
       "131183                    item_weight   \n",
       "131184  maximum_weight_recommendation   \n",
       "131185                    item_weight   \n",
       "131186  maximum_weight_recommendation   \n",
       "\n",
       "                                           extracted_text  \n",
       "0                                              oo _ | 2\\n  \n",
       "1       Size Width Length\\nOne Size 42cm/16.54\" 200cm/...  \n",
       "2       Size Width Length\\nOne Size 42cm/16.54\" 200cm/...  \n",
       "3       Size Width Length\\nOne Size 42cm/16.54\" 200cm/...  \n",
       "4       Size Width Length\\nOne Size 10.50em/4.13\" 90cm...  \n",
       "...                                                   ...  \n",
       "131182                                                NaN  \n",
       "131183                                                NaN  \n",
       "131184                                                NaN  \n",
       "131185                                                NaN  \n",
       "131186                                                NaN  \n",
       "\n",
       "[131187 rows x 5 columns]"
      ]
     },
     "execution_count": 6,
     "metadata": {},
     "output_type": "execute_result"
    }
   ],
   "source": [
    "test_with_extracted_text_df"
   ]
  },
  {
   "cell_type": "code",
   "execution_count": 9,
   "id": "6b629b15",
   "metadata": {},
   "outputs": [],
   "source": [
    "import re\n",
    "from src.constants import entity_unit_map\n",
    "\n",
    "def extract_entity_value_and_unit(entity_name, text):\n",
    "    if not isinstance(text, str):\n",
    "        return \"\"\n",
    "    \n",
    "    text = text.lower()\n",
    "\n",
    "    # Patterns for different entity types\n",
    "    patterns = {\n",
    "        'width': r'(?:width|w|wide)?\\s*(\\d+(?:\\.\\d+)?)\\s*(cm|centimetre|foot|ft|inch|in|metre|m|millimetre|mm|yard|yd)',\n",
    "        'depth': r'(?:depth|d|deep)?\\s*(\\d+(?:\\.\\d+)?)\\s*(cm|centimetre|foot|ft|inch|in|metre|m|millimetre|mm|yard|yd)',\n",
    "        'height': r'(?:height|h|tall)?\\s*(\\d+(?:\\.\\d+)?)\\s*(cm|centimetre|foot|ft|inch|in|metre|m|millimetre|mm|yard|yd)',\n",
    "        'item_weight': r'(?:weight|wt)?\\s*(\\d+(?:\\.\\d+)?)\\s*(g|gram|kg|kilogram|mcg|microgram|mg|milligram|oz|ounce|lb|pound|ton)',\n",
    "        'maximum_weight_recommendation': r'(?:max|maximum|weight)?\\s*(\\d+(?:\\.\\d+)?)\\s*(g|gram|kg|kilogram|mcg|microgram|mg|milligram|oz|ounce|lb|pound|ton)',\n",
    "        'voltage': r'(\\d+(?:\\.\\d+)?)\\s*(kv|kilovolt|mv|millivolt|v|volt)',\n",
    "        'wattage': r'(\\d+(?:\\.\\d+)?)\\s*(kw|kilowatt|w|watt)',\n",
    "        'item_volume': r'(\\d+(?:\\.\\d+)?)\\s*(cl|centilitre|cu ft|cubic foot|cu in|cubic inch|dl|decilitre|fl oz|fluid ounce|gal|gallon|imp gal|imperial gallon|l|litre|ml|millilitre|pt|pint|qt|quart)'\n",
    "    }\n",
    "    \n",
    "    # General fallback pattern\n",
    "    pattern = patterns.get(entity_name, r'(\\d+(?:\\.\\d+)?)\\s*(\\w+)')\n",
    "    matches = re.findall(pattern, text)\n",
    "\n",
    "    if matches:\n",
    "        # Sort matches by value to get the largest one\n",
    "        matches.sort(key=lambda x: float(x[0]), reverse=True)\n",
    "        value, unit = matches[0]\n",
    "        \n",
    "        # Map abbreviated units to full names\n",
    "        unit_mapping = {\n",
    "            'cm': 'centimetre', 'ft': 'foot', 'in': 'inch', 'm': 'metre', 'mm': 'millimetre', 'yd': 'yard',\n",
    "            'g': 'gram', 'kg': 'kilogram', 'mcg': 'microgram', 'mg': 'milligram', 'oz': 'ounce', 'lb': 'pound',\n",
    "            'kv': 'kilovolt', 'mv': 'millivolt', 'v': 'volt',\n",
    "            'kw': 'kilowatt', 'w': 'watt',\n",
    "            'cl': 'centilitre', 'cu ft': 'cubic foot', 'cu in': 'cubic inch', 'dl': 'decilitre', \n",
    "            'fl oz': 'fluid ounce', 'gal': 'gallon', 'imp gal': 'imperial gallon', 'l': 'litre', \n",
    "            'ml': 'millilitre', 'pt': 'pint', 'qt': 'quart'\n",
    "        }\n",
    "\n",
    "        full_unit = unit_mapping.get(unit, unit)\n",
    "\n",
    "        # Check if unit matches allowed entity units\n",
    "        if full_unit in entity_unit_map[entity_name]:\n",
    "            return f\"{float(value):.2f} {full_unit}\"\n",
    "\n",
    "    # Handling positional cases (e.g., width first, height second)\n",
    "    if entity_name in ['width', 'height', 'depth']:\n",
    "        dimensions = re.findall(r'(\\d+(?:\\.\\d+)?)\\s*(cm|inch|mm|metre|foot|yard)', text)\n",
    "        if dimensions:\n",
    "            if entity_name == 'width' and len(dimensions) > 0:\n",
    "                return f\"{float(dimensions[0][0]):.2f} {unit_mapping.get(dimensions[0][1], dimensions[0][1])}\"\n",
    "            elif entity_name == 'height' and len(dimensions) > 1:\n",
    "                return f\"{float(dimensions[1][0]):.2f} {unit_mapping.get(dimensions[1][1], dimensions[1][1])}\"\n",
    "            elif entity_name == 'depth' and len(dimensions) > 2:\n",
    "                return f\"{float(dimensions[2][0]):.2f} {unit_mapping.get(dimensions[2][1], dimensions[2][1])}\"\n",
    "\n",
    "    return \"\"\n"
   ]
  },
  {
   "cell_type": "code",
   "execution_count": 10,
   "id": "f77f7c2c",
   "metadata": {
    "scrolled": true
   },
   "outputs": [],
   "source": [
    "# Apply this function to the DataFrame\n",
    "test_with_extracted_text_df['entity_value'] = test_with_extracted_text_df.apply(\n",
    "    lambda row: extract_entity_value_and_unit(row['entity_name'], row['extracted_text']),\n",
    "    axis=1\n",
    ")"
   ]
  },
  {
   "cell_type": "code",
   "execution_count": 12,
   "id": "a8342d11",
   "metadata": {},
   "outputs": [],
   "source": [
    "# Save the updated DataFrame to a new CSV file\n",
    "test_with_extracted_text_df.to_csv('test_with_entity_values.csv', index=False)"
   ]
  },
  {
   "cell_type": "code",
   "execution_count": 13,
   "id": "62384c55",
   "metadata": {},
   "outputs": [
    {
     "name": "stderr",
     "output_type": "stream",
     "text": [
      "C:\\Users\\DELL\\AppData\\Local\\Temp\\ipykernel_19744\\2771298543.py:2: DtypeWarning: Columns (4,5) have mixed types. Specify dtype option on import or set low_memory=False.\n",
      "  processed_df = pd.read_csv('test_with_entity_values.csv')\n"
     ]
    }
   ],
   "source": [
    "# Load the processed DataFrame with extracted entity values\n",
    "processed_df = pd.read_csv('test_with_entity_values.csv')\n",
    "\n",
    "#  Ensure that the output follows the format \"x unit\" and matches the test dataset indices\n",
    "output_df = processed_df[['index', 'entity_value']].rename(columns={'entity_value': 'prediction'})\n"
   ]
  },
  {
   "cell_type": "code",
   "execution_count": 14,
   "id": "af526250",
   "metadata": {},
   "outputs": [],
   "source": [
    "#  Handle any missing values in the predictions column (fill empty predictions with \"\")\n",
    "output_df['prediction'].fillna(\"\", inplace=True)\n"
   ]
  },
  {
   "cell_type": "code",
   "execution_count": 15,
   "id": "0caf8032",
   "metadata": {},
   "outputs": [],
   "source": [
    "#  Save the output file in the correct format for submission\n",
    "output_filename = 'test_out.csv'\n",
    "output_df.to_csv(output_filename, index=False)\n"
   ]
  },
  {
   "cell_type": "code",
   "execution_count": 16,
   "id": "d64e81ac",
   "metadata": {},
   "outputs": [
    {
     "name": "stdout",
     "output_type": "stream",
     "text": [
      "Sanity Checker Output: Parsing successfull for file: C:\\Users\\DELL\\Downloads\\66e31d6ee96cd_student_resource_3\\student_resource 3\\test_out.csv\n",
      "\n",
      "Sanity Checker Errors: \n",
      "Return Code: 0\n"
     ]
    }
   ],
   "source": [
    "import os\n",
    "import subprocess\n",
    "\n",
    "\n",
    "test_filename = r'C:\\Users\\DELL\\Downloads\\66e31d6ee96cd_student_resource_3\\student_resource 3\\dataset\\test.csv'\n",
    "output_filename = r'C:\\Users\\DELL\\Downloads\\66e31d6ee96cd_student_resource_3\\student_resource 3\\test_out.csv'\n",
    "\n",
    "# Check if the test.csv file exists\n",
    "if os.path.exists(test_filename):\n",
    "    # Run the sanity checker using subprocess to capture output\n",
    "    command = f'python src/sanity.py --test_filename \"{test_filename}\" --output_filename \"{output_filename}\"'\n",
    "    process = subprocess.run(command, shell=True, capture_output=True, text=True)\n",
    "\n",
    "    # Print the output and any error messages\n",
    "    print(\"Sanity Checker Output:\", process.stdout)\n",
    "    print(\"Sanity Checker Errors:\", process.stderr)\n",
    "    print(\"Return Code:\", process.returncode)\n",
    "else:\n",
    "    print(f\"Error: File {test_filename} not found.\")\n"
   ]
  },
  {
   "cell_type": "code",
   "execution_count": null,
   "id": "4a394b7f",
   "metadata": {},
   "outputs": [],
   "source": []
  }
 ],
 "metadata": {
  "kernelspec": {
   "display_name": "Python 3 (ipykernel)",
   "language": "python",
   "name": "python3"
  },
  "language_info": {
   "codemirror_mode": {
    "name": "ipython",
    "version": 3
   },
   "file_extension": ".py",
   "mimetype": "text/x-python",
   "name": "python",
   "nbconvert_exporter": "python",
   "pygments_lexer": "ipython3",
   "version": "3.11.3"
  }
 },
 "nbformat": 4,
 "nbformat_minor": 5
}
